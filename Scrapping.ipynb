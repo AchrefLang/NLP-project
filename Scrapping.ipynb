{
 "cells": [
  {
   "cell_type": "code",
   "execution_count": 2,
   "id": "adf6c1af",
   "metadata": {},
   "outputs": [],
   "source": [
    "import requests\n",
    "import pandas as pd\n"
   ]
  },
  {
   "cell_type": "code",
   "execution_count": 7,
   "id": "f4c192cf",
   "metadata": {},
   "outputs": [
    {
     "data": {
      "text/plain": [
       "dict_keys(['numberRecords', 'jvs', 'facets'])"
      ]
     },
     "execution_count": 7,
     "metadata": {},
     "output_type": "execute_result"
    }
   ],
   "source": [
    "cookies = {\n",
    "    'EURES_JVSE_SESSIONID': '5054027AF82CCBF00AF76A7CEF00ECA7',\n",
    "    'XSRF-TOKEN': '4ab74f0e-dcf3-4442-ac3d-ae9bb8aa091d',\n",
    "    '_pk_ses.ba1b52b1-f8e5-42ec-93dc-088e1cd6d80f.1e93': '*',\n",
    "    '_pk_id.ba1b52b1-f8e5-42ec-93dc-088e1cd6d80f.1e93': 'c3ecde950d0043f3.1671913244.6.1672241171.1672241108.',\n",
    "    'cck1': '%7B%22cm%22%3Atrue%2C%22all1st%22%3Atrue%2C%22closed%22%3Atrue%7D',\n",
    "}\n",
    "\n",
    "headers = {\n",
    "    'Accept': 'application/json, text/plain, */*',\n",
    "    'Accept-Language': 'fr-FR,fr;q=0.9,en-US;q=0.8,en;q=0.7,ar;q=0.6',\n",
    "    'Connection': 'keep-alive',\n",
    "    'Content-Type': 'application/json',\n",
    "    # 'Cookie': 'EURES_JVSE_SESSIONID=5054027AF82CCBF00AF76A7CEF00ECA7; XSRF-TOKEN=4ab74f0e-dcf3-4442-ac3d-ae9bb8aa091d; _pk_ses.ba1b52b1-f8e5-42ec-93dc-088e1cd6d80f.1e93=*; _pk_id.ba1b52b1-f8e5-42ec-93dc-088e1cd6d80f.1e93=c3ecde950d0043f3.1671913244.6.1672241171.1672241108.; cck1=%7B%22cm%22%3Atrue%2C%22all1st%22%3Atrue%2C%22closed%22%3Atrue%7D',\n",
    "    'Origin': 'https://ec.europa.eu',\n",
    "    'Referer': 'https://ec.europa.eu/eures/portal/jv-se/search?page=1&resultsPerPage=10&orderBy=BEST_MATCH&locationCodes=fr&keywordsEverywhere=Data%20science&lang=fr',\n",
    "    'Sec-Fetch-Dest': 'empty',\n",
    "    'Sec-Fetch-Mode': 'cors',\n",
    "    'Sec-Fetch-Site': 'same-origin',\n",
    "    'User-Agent': 'Mozilla/5.0 (Windows NT 10.0; Win64; x64) AppleWebKit/537.36 (KHTML, like Gecko) Chrome/108.0.0.0 Safari/537.36',\n",
    "    'X-XSRF-TOKEN': '4ab74f0e-dcf3-4442-ac3d-ae9bb8aa091d',\n",
    "    'sec-ch-ua': '\"Not?A_Brand\";v=\"8\", \"Chromium\";v=\"108\", \"Google Chrome\";v=\"108\"',\n",
    "    'sec-ch-ua-mobile': '?0',\n",
    "    'sec-ch-ua-platform': '\"Windows\"',\n",
    "}\n",
    "\n",
    "json_data = {\n",
    "    'keywords': [\n",
    "        {\n",
    "            'keyword': 'Data science',\n",
    "            'specificSearchCode': 'EVERYWHERE',\n",
    "        },\n",
    "    ],\n",
    "    'publicationPeriod': None,\n",
    "    'occupationUris': [],\n",
    "    'skillUris': [],\n",
    "    'requiredExperienceCodes': [],\n",
    "    'positionScheduleCodes': [],\n",
    "    'sectorCodes': [],\n",
    "    'availableLanguages': [],\n",
    "    'educationLevelCodes': [],\n",
    "    'positionOfferingCodes': [],\n",
    "    'locationCodes': [\n",
    "        'fr',\n",
    "    ],\n",
    "    'euresFlagCodes': [],\n",
    "    'otherBenefitsCodes': [],\n",
    "    'requiredLanguages': [],\n",
    "    'resultsPerPage': 10,\n",
    "    'sortSearch': 'BEST_MATCH',\n",
    "    'page': 1,\n",
    "    'sessionId': 'eeuo4kuf6e6x4imkendqg',\n",
    "}\n",
    "\n",
    "response = requests.post(\n",
    "    'https://ec.europa.eu/eures/eures-apps/searchengine/page/jv-search/search',\n",
    "    cookies=cookies,\n",
    "    headers=headers,\n",
    "    json=json_data,\n",
    ")\n",
    "\n",
    "r_json=response.json()\n",
    "r_json.keys()"
   ]
  },
  {
   "cell_type": "code",
   "execution_count": 16,
   "id": "50962b95",
   "metadata": {},
   "outputs": [],
   "source": [
    "Description=[]\n",
    "for p in range(1,150):\n",
    "    cookies = {\n",
    "        'EURES_JVSE_SESSIONID': '5054027AF82CCBF00AF76A7CEF00ECA7',\n",
    "        'XSRF-TOKEN': '4ab74f0e-dcf3-4442-ac3d-ae9bb8aa091d',\n",
    "        '_pk_ses.ba1b52b1-f8e5-42ec-93dc-088e1cd6d80f.1e93': '*',\n",
    "        '_pk_id.ba1b52b1-f8e5-42ec-93dc-088e1cd6d80f.1e93': 'c3ecde950d0043f3.1671913244.6.1672241171.1672241108.',\n",
    "        'cck1': '%7B%22cm%22%3Atrue%2C%22all1st%22%3Atrue%2C%22closed%22%3Atrue%7D',\n",
    "    }\n",
    "\n",
    "    headers = {\n",
    "        'Accept': 'application/json, text/plain, */*',\n",
    "        'Accept-Language': 'fr-FR,fr;q=0.9,en-US;q=0.8,en;q=0.7,ar;q=0.6',\n",
    "        'Connection': 'keep-alive',\n",
    "        'Content-Type': 'application/json',\n",
    "        # 'Cookie': 'EURES_JVSE_SESSIONID=5054027AF82CCBF00AF76A7CEF00ECA7; XSRF-TOKEN=4ab74f0e-dcf3-4442-ac3d-ae9bb8aa091d; _pk_ses.ba1b52b1-f8e5-42ec-93dc-088e1cd6d80f.1e93=*; _pk_id.ba1b52b1-f8e5-42ec-93dc-088e1cd6d80f.1e93=c3ecde950d0043f3.1671913244.6.1672241171.1672241108.; cck1=%7B%22cm%22%3Atrue%2C%22all1st%22%3Atrue%2C%22closed%22%3Atrue%7D',\n",
    "        'Origin': 'https://ec.europa.eu',\n",
    "        'Referer': 'https://ec.europa.eu/eures/portal/jv-se/search?page=1&resultsPerPage=10&orderBy=BEST_MATCH&locationCodes=fr&keywordsEverywhere=Data%20science&lang=fr',\n",
    "        'Sec-Fetch-Dest': 'empty',\n",
    "        'Sec-Fetch-Mode': 'cors',\n",
    "        'Sec-Fetch-Site': 'same-origin',\n",
    "        'User-Agent': 'Mozilla/5.0 (Windows NT 10.0; Win64; x64) AppleWebKit/537.36 (KHTML, like Gecko) Chrome/108.0.0.0 Safari/537.36',\n",
    "        'X-XSRF-TOKEN': '4ab74f0e-dcf3-4442-ac3d-ae9bb8aa091d',\n",
    "        'sec-ch-ua': '\"Not?A_Brand\";v=\"8\", \"Chromium\";v=\"108\", \"Google Chrome\";v=\"108\"',\n",
    "        'sec-ch-ua-mobile': '?0',\n",
    "        'sec-ch-ua-platform': '\"Windows\"',\n",
    "    }\n",
    "\n",
    "    json_data = {\n",
    "        'keywords': [\n",
    "            {\n",
    "                'keyword': 'Data science',\n",
    "                'specificSearchCode': 'EVERYWHERE',\n",
    "            },\n",
    "        ],\n",
    "        'publicationPeriod': None,\n",
    "        'occupationUris': [],\n",
    "        'skillUris': [],\n",
    "        'requiredExperienceCodes': [],\n",
    "        'positionScheduleCodes': [],\n",
    "        'sectorCodes': [],\n",
    "        'availableLanguages': [],\n",
    "        'educationLevelCodes': [],\n",
    "        'positionOfferingCodes': [],\n",
    "        'locationCodes': [\n",
    "            'fr',\n",
    "        ],\n",
    "        'euresFlagCodes': [],\n",
    "        'otherBenefitsCodes': [],\n",
    "        'requiredLanguages': [],\n",
    "        'resultsPerPage': 10,\n",
    "        'sortSearch': 'BEST_MATCH',\n",
    "        'page': p,\n",
    "        'sessionId': 'eeuo4kuf6e6x4imkendqg',\n",
    "    }\n",
    "\n",
    "    response = requests.post(\n",
    "        'https://ec.europa.eu/eures/eures-apps/searchengine/page/jv-search/search',\n",
    "        cookies=cookies,\n",
    "        headers=headers,\n",
    "        json=json_data,\n",
    ")\n",
    "    response = requests.post('https://ec.europa.eu/eures/eures-apps/searchengine/page/jv-search/search', cookies=cookies, headers=headers, json=json_data)\n",
    "    r_json=response.json()\n",
    "    for i in range(10):\n",
    "        Description.append(r_json['jvs'][i]['description'])"
   ]
  },
  {
   "cell_type": "code",
   "execution_count": 24,
   "id": "be46b19a",
   "metadata": {},
   "outputs": [
    {
     "data": {
      "text/plain": [
       "1490"
      ]
     },
     "execution_count": 24,
     "metadata": {},
     "output_type": "execute_result"
    }
   ],
   "source": [
    "len(Description)\n"
   ]
  },
  {
   "cell_type": "code",
   "execution_count": 26,
   "id": "6a526fe7",
   "metadata": {},
   "outputs": [
    {
     "data": {
      "text/plain": [
       "1490"
      ]
     },
     "execution_count": 26,
     "metadata": {},
     "output_type": "execute_result"
    }
   ],
   "source": [
    "Data = pd.DataFrame()\n",
    "Data[\"description\"]=Description\n",
    "len(Data)"
   ]
  },
  {
   "cell_type": "code",
   "execution_count": 27,
   "id": "898afb1d",
   "metadata": {},
   "outputs": [],
   "source": [
    "Data.to_csv('Descriptions.csv')"
   ]
  },
  {
   "cell_type": "code",
   "execution_count": 29,
   "id": "c91edef8",
   "metadata": {},
   "outputs": [
    {
     "data": {
      "text/html": [
       "<div>\n",
       "<style scoped>\n",
       "    .dataframe tbody tr th:only-of-type {\n",
       "        vertical-align: middle;\n",
       "    }\n",
       "\n",
       "    .dataframe tbody tr th {\n",
       "        vertical-align: top;\n",
       "    }\n",
       "\n",
       "    .dataframe thead th {\n",
       "        text-align: right;\n",
       "    }\n",
       "</style>\n",
       "<table border=\"1\" class=\"dataframe\">\n",
       "  <thead>\n",
       "    <tr style=\"text-align: right;\">\n",
       "      <th></th>\n",
       "      <th>Unnamed: 0</th>\n",
       "      <th>description</th>\n",
       "    </tr>\n",
       "  </thead>\n",
       "  <tbody>\n",
       "    <tr>\n",
       "      <th>0</th>\n",
       "      <td>0</td>\n",
       "      <td>Au croisement d'enjeux essentiels et captivant...</td>\n",
       "    </tr>\n",
       "    <tr>\n",
       "      <th>1</th>\n",
       "      <td>1</td>\n",
       "      <td>- Analyser des données- Appréhender le niveau ...</td>\n",
       "    </tr>\n",
       "    <tr>\n",
       "      <th>2</th>\n",
       "      <td>2</td>\n",
       "      <td>Optimind - Actuarial &amp;amp; Financial Services ...</td>\n",
       "    </tr>\n",
       "    <tr>\n",
       "      <th>3</th>\n",
       "      <td>3</td>\n",
       "      <td>Nous recrutons un.e Chef de projet / Coordinat...</td>\n",
       "    </tr>\n",
       "    <tr>\n",
       "      <th>4</th>\n",
       "      <td>4</td>\n",
       "      <td>Descriptif du poste:Votre futur environnement ...</td>\n",
       "    </tr>\n",
       "    <tr>\n",
       "      <th>5</th>\n",
       "      <td>5</td>\n",
       "      <td>Quelles seront vos missions?Contrôler la quali...</td>\n",
       "    </tr>\n",
       "    <tr>\n",
       "      <th>6</th>\n",
       "      <td>6</td>\n",
       "      <td>Le data scientist est en capacité d'explorer e...</td>\n",
       "    </tr>\n",
       "    <tr>\n",
       "      <th>7</th>\n",
       "      <td>7</td>\n",
       "      <td>Contexte&amp;nbsp;&amp;nbsp;L'équipe Data Science est ...</td>\n",
       "    </tr>\n",
       "    <tr>\n",
       "      <th>8</th>\n",
       "      <td>8</td>\n",
       "      <td>Chez Sephora, nous sommes unis et défendons no...</td>\n",
       "    </tr>\n",
       "    <tr>\n",
       "      <th>9</th>\n",
       "      <td>9</td>\n",
       "      <td>Recherche: DATA ANALYST (H/F)Le Groupe APICIL,...</td>\n",
       "    </tr>\n",
       "  </tbody>\n",
       "</table>\n",
       "</div>"
      ],
      "text/plain": [
       "   Unnamed: 0                                        description\n",
       "0           0  Au croisement d'enjeux essentiels et captivant...\n",
       "1           1  - Analyser des données- Appréhender le niveau ...\n",
       "2           2  Optimind - Actuarial &amp; Financial Services ...\n",
       "3           3  Nous recrutons un.e Chef de projet / Coordinat...\n",
       "4           4  Descriptif du poste:Votre futur environnement ...\n",
       "5           5  Quelles seront vos missions?Contrôler la quali...\n",
       "6           6  Le data scientist est en capacité d'explorer e...\n",
       "7           7  Contexte&nbsp;&nbsp;L'équipe Data Science est ...\n",
       "8           8  Chez Sephora, nous sommes unis et défendons no...\n",
       "9           9  Recherche: DATA ANALYST (H/F)Le Groupe APICIL,..."
      ]
     },
     "execution_count": 29,
     "metadata": {},
     "output_type": "execute_result"
    }
   ],
   "source": [
    "offres = pd.read_csv('Descriptions.csv')\n",
    "offres.head(10)"
   ]
  },
  {
   "cell_type": "code",
   "execution_count": 32,
   "id": "db8ad527",
   "metadata": {},
   "outputs": [
    {
     "data": {
      "text/plain": [
       "60"
      ]
     },
     "execution_count": 32,
     "metadata": {},
     "output_type": "execute_result"
    }
   ],
   "source": [
    "Scraped_Off=offres.iloc[320:380,1]\n",
    "len(Scraped_Off)\n"
   ]
  },
  {
   "cell_type": "code",
   "execution_count": 33,
   "id": "127c3ea7",
   "metadata": {},
   "outputs": [],
   "source": [
    "Scraped_Off.to_csv('descriptions.txt', sep='\\t',index=False)"
   ]
  }
 ],
 "metadata": {
  "kernelspec": {
   "display_name": "Python 3 (ipykernel)",
   "language": "python",
   "name": "python3"
  },
  "language_info": {
   "codemirror_mode": {
    "name": "ipython",
    "version": 3
   },
   "file_extension": ".py",
   "mimetype": "text/x-python",
   "name": "python",
   "nbconvert_exporter": "python",
   "pygments_lexer": "ipython3",
   "version": "3.9.7"
  }
 },
 "nbformat": 4,
 "nbformat_minor": 5
}
